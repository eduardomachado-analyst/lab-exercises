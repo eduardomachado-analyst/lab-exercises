{
 "cells": [
  {
   "cell_type": "markdown",
   "metadata": {
    "colab_type": "text",
    "id": "IGVndfDXTYvF"
   },
   "source": [
    "# Lab - Object Oriented Programming"
   ]
  },
  {
   "cell_type": "code",
   "execution_count": 1,
   "metadata": {
    "colab": {},
    "colab_type": "code",
    "id": "eFUM14nhTYvJ"
   },
   "outputs": [],
   "source": [
    "import pandas as pd\n",
    "import numpy as np"
   ]
  },
  {
   "cell_type": "markdown",
   "metadata": {
    "colab_type": "text",
    "id": "VAdTxKlPTYvP"
   },
   "source": [
    "# Challenge 2"
   ]
  },
  {
   "cell_type": "markdown",
   "metadata": {
    "colab_type": "text",
    "id": "r1ytbMg1TYvR"
   },
   "source": [
    "In order to understand the benefits of simple object-oriented programming, we have to build up our classes from the beginning. "
   ]
  },
  {
   "cell_type": "markdown",
   "metadata": {
    "colab_type": "text",
    "id": "X0QMBMXqTYvS"
   },
   "source": [
    "You'll use the following dataframe generator to test some things. Try to understand what the following function does."
   ]
  },
  {
   "cell_type": "code",
   "execution_count": 2,
   "metadata": {
    "colab": {},
    "colab_type": "code",
    "id": "X45Itv4vTYvU"
   },
   "outputs": [],
   "source": [
    "chars = ['a', 'b', 'c','d', 'e', 'f', ' ', 'á','é','ó']\n",
    "\n",
    "def create_weird_dataframe(size=10):\n",
    "    def create_weird_colnames(size=size):\n",
    "        probs = [.2,.2,.15,.1,.1,.1,.05,.05,.025,.025]\n",
    "\n",
    "        return [''.join(\n",
    "            [(char.upper() if np.random.random() < 0.2 else char) \n",
    "                     for char in np.random.choice(chars,size=12, p=probs)]) for i in range(size)]\n",
    "    \n",
    "    data = np.random.random(size=(size,size))\n",
    "    colnames = create_weird_colnames(size)\n",
    "    return pd.DataFrame(data=data, columns=colnames)"
   ]
  },
  {
   "cell_type": "markdown",
   "metadata": {
    "colab_type": "text",
    "id": "u2mUOpnbTYvY"
   },
   "source": [
    "Test the results of running that function below. Run it several times"
   ]
  },
  {
   "cell_type": "code",
   "execution_count": 3,
   "metadata": {
    "colab": {},
    "colab_type": "code",
    "id": "sN4YC6L2TYvZ"
   },
   "outputs": [
    {
     "data": {
      "text/html": [
       "<div>\n",
       "<style scoped>\n",
       "    .dataframe tbody tr th:only-of-type {\n",
       "        vertical-align: middle;\n",
       "    }\n",
       "\n",
       "    .dataframe tbody tr th {\n",
       "        vertical-align: top;\n",
       "    }\n",
       "\n",
       "    .dataframe thead th {\n",
       "        text-align: right;\n",
       "    }\n",
       "</style>\n",
       "<table border=\"1\" class=\"dataframe\">\n",
       "  <thead>\n",
       "    <tr style=\"text-align: right;\">\n",
       "      <th></th>\n",
       "      <th>dacáacáecé f</th>\n",
       "      <th>dddAbbfeeDbc</th>\n",
       "      <th>daEaaábfcADb</th>\n",
       "      <th>dfccbcfdbóaC</th>\n",
       "      <th>bfbdaBdFeBc</th>\n",
       "      <th>acabáabébFf</th>\n",
       "      <th>aFebbfcebdaa</th>\n",
       "      <th>deáCfbCbéÉéD</th>\n",
       "      <th>cáedCcéecCbÓ</th>\n",
       "      <th>éeab ceCaDe</th>\n",
       "    </tr>\n",
       "  </thead>\n",
       "  <tbody>\n",
       "    <tr>\n",
       "      <th>0</th>\n",
       "      <td>0.445299</td>\n",
       "      <td>0.205098</td>\n",
       "      <td>0.303272</td>\n",
       "      <td>0.953336</td>\n",
       "      <td>0.726471</td>\n",
       "      <td>0.836171</td>\n",
       "      <td>0.373632</td>\n",
       "      <td>0.130953</td>\n",
       "      <td>0.822468</td>\n",
       "      <td>0.465868</td>\n",
       "    </tr>\n",
       "    <tr>\n",
       "      <th>1</th>\n",
       "      <td>0.697099</td>\n",
       "      <td>0.422602</td>\n",
       "      <td>0.415784</td>\n",
       "      <td>0.158676</td>\n",
       "      <td>0.078778</td>\n",
       "      <td>0.384967</td>\n",
       "      <td>0.949950</td>\n",
       "      <td>0.388698</td>\n",
       "      <td>0.641548</td>\n",
       "      <td>0.429760</td>\n",
       "    </tr>\n",
       "    <tr>\n",
       "      <th>2</th>\n",
       "      <td>0.249328</td>\n",
       "      <td>0.258030</td>\n",
       "      <td>0.260845</td>\n",
       "      <td>0.987603</td>\n",
       "      <td>0.218949</td>\n",
       "      <td>0.527880</td>\n",
       "      <td>0.096218</td>\n",
       "      <td>0.366950</td>\n",
       "      <td>0.797884</td>\n",
       "      <td>0.156265</td>\n",
       "    </tr>\n",
       "    <tr>\n",
       "      <th>3</th>\n",
       "      <td>0.247047</td>\n",
       "      <td>0.561532</td>\n",
       "      <td>0.826765</td>\n",
       "      <td>0.802330</td>\n",
       "      <td>0.657620</td>\n",
       "      <td>0.569208</td>\n",
       "      <td>0.781582</td>\n",
       "      <td>0.906309</td>\n",
       "      <td>0.271470</td>\n",
       "      <td>0.818604</td>\n",
       "    </tr>\n",
       "    <tr>\n",
       "      <th>4</th>\n",
       "      <td>0.054452</td>\n",
       "      <td>0.411947</td>\n",
       "      <td>0.958916</td>\n",
       "      <td>0.106602</td>\n",
       "      <td>0.054932</td>\n",
       "      <td>0.322324</td>\n",
       "      <td>0.294903</td>\n",
       "      <td>0.190899</td>\n",
       "      <td>0.838526</td>\n",
       "      <td>0.543342</td>\n",
       "    </tr>\n",
       "  </tbody>\n",
       "</table>\n",
       "</div>"
      ],
      "text/plain": [
       "   dacáacáecé f  dddAbbfeeDbc  daEaaábfcADb  dfccbcfdbóaC   bfbdaBdFeBc  \\\n",
       "0      0.445299      0.205098      0.303272      0.953336      0.726471   \n",
       "1      0.697099      0.422602      0.415784      0.158676      0.078778   \n",
       "2      0.249328      0.258030      0.260845      0.987603      0.218949   \n",
       "3      0.247047      0.561532      0.826765      0.802330      0.657620   \n",
       "4      0.054452      0.411947      0.958916      0.106602      0.054932   \n",
       "\n",
       "   acabáabébFf   aFebbfcebdaa  deáCfbCbéÉéD  cáedCcéecCbÓ   éeab ceCaDe  \n",
       "0      0.836171      0.373632      0.130953      0.822468      0.465868  \n",
       "1      0.384967      0.949950      0.388698      0.641548      0.429760  \n",
       "2      0.527880      0.096218      0.366950      0.797884      0.156265  \n",
       "3      0.569208      0.781582      0.906309      0.271470      0.818604  \n",
       "4      0.322324      0.294903      0.190899      0.838526      0.543342  "
      ]
     },
     "execution_count": 3,
     "metadata": {},
     "output_type": "execute_result"
    }
   ],
   "source": [
    "df = create_weird_dataframe()\n",
    "df.head()"
   ]
  },
  {
   "cell_type": "markdown",
   "metadata": {
    "colab_type": "text",
    "id": "uk4PrJFfTYvd"
   },
   "source": [
    "## Correcting the column names\n",
    "\n",
    "We'll create a function that rename the weird column names. The idea is to, later, extend that idea to our own brand new dataframe class."
   ]
  },
  {
   "cell_type": "markdown",
   "metadata": {
    "colab_type": "text",
    "id": "n7Zt4bABTYvf"
   },
   "source": [
    "### let's start simple: get the column names of the dataframe.\n",
    "\n",
    "Store it in a variable called `col_names`\n"
   ]
  },
  {
   "cell_type": "code",
   "execution_count": 6,
   "metadata": {
    "colab": {},
    "colab_type": "code",
    "id": "ZPR1hdCITYvg"
   },
   "outputs": [
    {
     "data": {
      "text/plain": [
       "Index(['dacáacáecé f', 'dddAbbfeeDbc', 'daEaaábfcADb', 'dfccbcfdbóaC',\n",
       "       ' bfbdaBdFeBc', 'acabáabébFf ', 'aFebbfcebdaa', 'deáCfbCbéÉéD',\n",
       "       'cáedCcéecCbÓ', ' éeab ceCaDe'],\n",
       "      dtype='object')"
      ]
     },
     "execution_count": 6,
     "metadata": {},
     "output_type": "execute_result"
    }
   ],
   "source": [
    "col_names = df.columns\n",
    "col_names"
   ]
  },
  {
   "cell_type": "markdown",
   "metadata": {
    "colab_type": "text",
    "id": "CIkkr475TYvk"
   },
   "source": [
    "### Let's iterate through this columns and transform them into lower-case column names\n",
    "\n",
    "Create a list comprehension to do that if possible. Store it in a variable called `lower_colnames`"
   ]
  },
  {
   "cell_type": "code",
   "execution_count": 11,
   "metadata": {
    "colab": {},
    "colab_type": "code",
    "id": "6TXYfFx5TYvl"
   },
   "outputs": [
    {
     "data": {
      "text/plain": [
       "['dacáacáecé f',\n",
       " 'dddabbfeedbc',\n",
       " 'daeaaábfcadb',\n",
       " 'dfccbcfdbóac',\n",
       " ' bfbdabdfebc',\n",
       " 'acabáabébff ',\n",
       " 'afebbfcebdaa',\n",
       " 'deácfbcbéééd',\n",
       " 'cáedccéeccbó',\n",
       " ' éeab cecade']"
      ]
     },
     "execution_count": 11,
     "metadata": {},
     "output_type": "execute_result"
    }
   ],
   "source": [
    "lower_colnames = [c.lower() for c in col_names]\n",
    "lower_colnames"
   ]
  },
  {
   "cell_type": "markdown",
   "metadata": {
    "colab_type": "text",
    "id": "qlTchgNbTYvp"
   },
   "source": [
    "### Let's remove the spaces of these column names!\n",
    "\n",
    "Replace each column name space ` ` for an underline `_`. Again, try to use a list comprehension to do that. \n",
    "For this first task use `.replace(' ','_')` method to do that."
   ]
  },
  {
   "cell_type": "code",
   "execution_count": 12,
   "metadata": {
    "colab": {},
    "colab_type": "code",
    "id": "y0JFfKgFTYvq"
   },
   "outputs": [
    {
     "data": {
      "text/plain": [
       "['dacáacáecé_f',\n",
       " 'dddabbfeedbc',\n",
       " 'daeaaábfcadb',\n",
       " 'dfccbcfdbóac',\n",
       " '_bfbdabdfebc',\n",
       " 'acabáabébff_',\n",
       " 'afebbfcebdaa',\n",
       " 'deácfbcbéééd',\n",
       " 'cáedccéeccbó',\n",
       " '_éeab_cecade']"
      ]
     },
     "execution_count": 12,
     "metadata": {},
     "output_type": "execute_result"
    }
   ],
   "source": [
    "lower_colnames = [c.replace(' ', '_') for c in lower_colnames]\n",
    "lower_colnames"
   ]
  },
  {
   "cell_type": "markdown",
   "metadata": {
    "colab_type": "text",
    "id": "TCj5NklYTYvu"
   },
   "source": [
    "### Create a function that groups the results obtained above and return the lower case underlined names as a list\n",
    "\n",
    "Name the function `normalize_cols`. This function should receive a dataframe, get the column names of a it and return the treated list of column names."
   ]
  },
  {
   "cell_type": "code",
   "execution_count": 13,
   "metadata": {
    "colab": {},
    "colab_type": "code",
    "id": "aqYwg4EJTYvv"
   },
   "outputs": [],
   "source": [
    "def normalize_cols(df):\n",
    "    return [c.lower().replace(' ', '_') for c in df.columns]"
   ]
  },
  {
   "cell_type": "markdown",
   "metadata": {
    "colab_type": "text",
    "id": "YMpWYJFwTYvz"
   },
   "source": [
    "### Test your results\n",
    "\n",
    "Use the following line of code to test your results. Run it several times to see some behaviors."
   ]
  },
  {
   "cell_type": "code",
   "execution_count": 14,
   "metadata": {
    "colab": {},
    "colab_type": "code",
    "id": "fbXmMMd3TYv0"
   },
   "outputs": [
    {
     "data": {
      "text/plain": [
       "['fabdbeéóacóa',\n",
       " 'ddbeaccéecff',\n",
       " 'cacabecaaec_',\n",
       " '__afadfdééda',\n",
       " 'fóbcccabecae',\n",
       " 'adeebbaabfb_',\n",
       " 'caeafdeabdba',\n",
       " 'bdaedbbá_ef_',\n",
       " 'aébefáacfdfd',\n",
       " 'bádbaceaadcf']"
      ]
     },
     "execution_count": 14,
     "metadata": {},
     "output_type": "execute_result"
    }
   ],
   "source": [
    "normalize_cols(create_weird_dataframe())"
   ]
  },
  {
   "cell_type": "markdown",
   "metadata": {
    "colab_type": "text",
    "id": "LWMc9bikTYv4"
   },
   "source": [
    "### hmmm, we've made a mistake!\n",
    "\n",
    "We've commited several mistakes by doing this. Have observed any bugs associated with our results?"
   ]
  },
  {
   "cell_type": "markdown",
   "metadata": {
    "colab_type": "text",
    "id": "fGnyUzGATYv5"
   },
   "source": [
    "In order for us to see some problems in our results, we have to look for edge cases. \n",
    "\n",
    "For example: \n",
    "\n",
    "**Problem #1:** what if there are 2 or more following spaces? We want it to replace the spaces by several underlines or condense them into one?\n",
    "\n",
    "**Problem #2:** what if there are spaces at the beginning? Should we substitute them by underline or drop them?"
   ]
  },
  {
   "cell_type": "markdown",
   "metadata": {
    "colab_type": "text",
    "id": "BkJguuBITYv6"
   },
   "source": [
    "Let's correct each problem. Starting by problem 2."
   ]
  },
  {
   "cell_type": "markdown",
   "metadata": {
    "colab_type": "text",
    "id": "ikvacQQ3TYv7"
   },
   "source": [
    "## Correcting our function\n",
    "\n",
    "Instead of substituting the spaces at first place, let's remove the trailing and leading spaces!\n",
    "\n",
    "Recreate the `normalize_cols` with the solution to `Problem 2`.\n",
    "\n",
    "*Hint: Copy and paste the last `normalize_cols` function to change it.*"
   ]
  },
  {
   "cell_type": "code",
   "execution_count": 31,
   "metadata": {
    "colab": {},
    "colab_type": "code",
    "id": "u_kX4HS1TYv8"
   },
   "outputs": [],
   "source": [
    "def normalize_cols(df):\n",
    "    r = [c.lower().strip() for c in df.columns]\n",
    "    return r"
   ]
  },
  {
   "cell_type": "markdown",
   "metadata": {
    "colab_type": "text",
    "id": "MXm2-PEbTYwA"
   },
   "source": [
    "### Test your results again.\n",
    "\n",
    "At least, for now, you should not have any trailing nor leading underlines."
   ]
  },
  {
   "cell_type": "code",
   "execution_count": 32,
   "metadata": {
    "colab": {},
    "colab_type": "code",
    "id": "Bm9ifu5QTYwB"
   },
   "outputs": [
    {
     "data": {
      "text/plain": [
       "['dbbdfbdabéec',\n",
       " 'áabáaeeecdáe',\n",
       " 'dbbfbbbbáfba',\n",
       " 'áecádábbó df',\n",
       " 'afabéfacdafc',\n",
       " 'fbfecceabbfc',\n",
       " 'aacbacbeadéb',\n",
       " 'cbffdbcabefé',\n",
       " 'abdbacfcffóc',\n",
       " 'fadabecaácec']"
      ]
     },
     "execution_count": 32,
     "metadata": {},
     "output_type": "execute_result"
    }
   ],
   "source": [
    "normalize_cols(create_weird_dataframe())"
   ]
  },
  {
   "cell_type": "markdown",
   "metadata": {
    "colab_type": "text",
    "id": "zNR5w4cWTYwE"
   },
   "source": [
    "### Correcting problem 1"
   ]
  },
  {
   "cell_type": "markdown",
   "metadata": {
    "colab_type": "text",
    "id": "vSJu3qCCTYwG"
   },
   "source": [
    "To correct problem 1, instead of using `.replace()` string method, we want to use a regular expression. Use the module `re` to substitute the pattern of `1 or more spaces` by 1 underline `_`.\n",
    "\n",
    "Test your solution on the variable below:"
   ]
  },
  {
   "cell_type": "code",
   "execution_count": 24,
   "metadata": {
    "colab": {},
    "colab_type": "code",
    "id": "8dm4rS5mTYwH"
   },
   "outputs": [],
   "source": [
    "import re \n",
    "\n",
    "text = 'these spaces      should all be one underline'"
   ]
  },
  {
   "cell_type": "code",
   "execution_count": 25,
   "metadata": {
    "colab": {},
    "colab_type": "code",
    "id": "RP-cz9kKTYwK"
   },
   "outputs": [
    {
     "data": {
      "text/plain": [
       "'these_spaces_should_all_be_one_underline'"
      ]
     },
     "execution_count": 25,
     "metadata": {},
     "output_type": "execute_result"
    }
   ],
   "source": [
    "re.sub('\\s+', '_', text)"
   ]
  },
  {
   "cell_type": "markdown",
   "metadata": {
    "colab_type": "text",
    "id": "iqffTpd3TYwU"
   },
   "source": [
    "### Now correct your `normalize_cols` function\n",
    "\n",
    "*Hint: Copy and paste the last `normalize_cols` function to change it.*"
   ]
  },
  {
   "cell_type": "code",
   "execution_count": 41,
   "metadata": {
    "colab": {},
    "colab_type": "code",
    "id": "7SxhpuOCTYwV"
   },
   "outputs": [],
   "source": [
    "def normalize_cols(df):\n",
    "    r = [re.sub('\\s+', '_', c).lower() for c in df]\n",
    "    return r"
   ]
  },
  {
   "cell_type": "markdown",
   "metadata": {
    "colab_type": "text",
    "id": "mn0UwlZATYwX"
   },
   "source": [
    "### Again, test your results.\n",
    "\n",
    "Now, sometimes some column names should have smaller sizes (because you are removing consecutive spaces)"
   ]
  },
  {
   "cell_type": "code",
   "execution_count": 42,
   "metadata": {
    "colab": {},
    "colab_type": "code",
    "id": "LzHIKAT4TYwZ"
   },
   "outputs": [
    {
     "data": {
      "text/plain": [
       "['áaebbacébdde',\n",
       " 'ább_cfeceabó',\n",
       " 'ebbaaf_bffab',\n",
       " 'fbbf_afadfdc',\n",
       " 'badáaeábbdc_',\n",
       " 'éacbaccaedbe',\n",
       " 'bbé_fdcce_cá',\n",
       " 'ccebdbaacaef',\n",
       " 'bdcabaddd_éa',\n",
       " 'códad_ffabda']"
      ]
     },
     "execution_count": 42,
     "metadata": {},
     "output_type": "execute_result"
    }
   ],
   "source": [
    "normalize_cols(create_weird_dataframe())"
   ]
  },
  {
   "cell_type": "markdown",
   "metadata": {
    "colab_type": "text",
    "id": "bs7KvyTwTYwc"
   },
   "source": [
    "## Last step: remove accents"
   ]
  },
  {
   "cell_type": "markdown",
   "metadata": {
    "colab_type": "text",
    "id": "rhQLRfoYTYwd"
   },
   "source": [
    "The last step consists in removing accents from the strings.\n",
    "\n",
    "Import the package `unidecode` to use its module also called `unidecode` to remove accents. Test on the word below."
   ]
  },
  {
   "cell_type": "code",
   "execution_count": 56,
   "metadata": {
    "colab": {},
    "colab_type": "code",
    "id": "4fgbbUbZTYwg"
   },
   "outputs": [],
   "source": [
    "!! conda install -c anaconda unidecode\n",
    "from unidecode import unidecode"
   ]
  },
  {
   "cell_type": "code",
   "execution_count": 57,
   "metadata": {
    "colab": {},
    "colab_type": "code",
    "id": "osrv7brdTYwe"
   },
   "outputs": [],
   "source": [
    "text = 'aéóúaorowó'"
   ]
  },
  {
   "cell_type": "code",
   "execution_count": 58,
   "metadata": {
    "colab": {},
    "colab_type": "code",
    "id": "Jq0y6zOE7sb6"
   },
   "outputs": [
    {
     "data": {
      "text/plain": [
       "'aeouaorowo'"
      ]
     },
     "execution_count": 58,
     "metadata": {},
     "output_type": "execute_result"
    }
   ],
   "source": [
    "text = unidecode(text)\n",
    "text"
   ]
  },
  {
   "cell_type": "markdown",
   "metadata": {
    "colab_type": "text",
    "id": "tCoX4ZYLTYwj"
   },
   "source": [
    "### Now remove the accents for each column name in your `normalized_cols` function.\n",
    "\n",
    "*Hint: Copy and paste the last `normalize_cols` function to change it.*"
   ]
  },
  {
   "cell_type": "code",
   "execution_count": 61,
   "metadata": {
    "colab": {},
    "colab_type": "code",
    "id": "3ZW9No0uTYwk"
   },
   "outputs": [],
   "source": [
    "def normalize_cols(df):\n",
    "    r = [unidecode(re.sub('\\s+', '_', c).lower()) for c in df]\n",
    "    return r"
   ]
  },
  {
   "cell_type": "markdown",
   "metadata": {
    "colab_type": "text",
    "id": "MTgNfgeYTYwm"
   },
   "source": [
    "### Test your results"
   ]
  },
  {
   "cell_type": "code",
   "execution_count": 62,
   "metadata": {
    "colab": {},
    "colab_type": "code",
    "id": "RxDiO0PzTYwn"
   },
   "outputs": [
    {
     "data": {
      "text/plain": [
       "['ac_eadbeaeb_',\n",
       " 'cbabebbbacff',\n",
       " 'ccabeabadaao',\n",
       " 'caodadceaacc',\n",
       " 'baebccefbd_d',\n",
       " 'fbaeeeecceaa',\n",
       " 'beoaababffbb',\n",
       " 'cbaccdddfaac',\n",
       " 'cfaae_focebc',\n",
       " 'cebabafaebfb']"
      ]
     },
     "execution_count": 62,
     "metadata": {},
     "output_type": "execute_result"
    }
   ],
   "source": [
    "normalize_cols(create_weird_dataframe())"
   ]
  },
  {
   "cell_type": "markdown",
   "metadata": {
    "colab_type": "text",
    "id": "VQ9C0CjkTYwq"
   },
   "source": [
    "## Good job. \n",
    "\n",
    "Right now you have a function that receives a dataframe and returns its columns names with a good formatting."
   ]
  },
  {
   "cell_type": "markdown",
   "metadata": {
    "colab_type": "text",
    "id": "5swtawYcTYwq"
   },
   "source": [
    "# Creating our own dataframe."
   ]
  },
  {
   "cell_type": "code",
   "execution_count": 63,
   "metadata": {
    "colab": {},
    "colab_type": "code",
    "id": "69irk1odTYwr"
   },
   "outputs": [],
   "source": [
    "from pandas import DataFrame"
   ]
  },
  {
   "cell_type": "markdown",
   "metadata": {
    "colab_type": "text",
    "id": "3vUf_BFSTYwt"
   },
   "source": [
    "A dataframe is just a simple class. It contains its own attributes and methods. \n",
    "\n",
    "When you create a pd.DataFrame() you are just instantiating the DataFrame class as an object that you can store in a variable. From this point onwards, you have access to all DataFrame class attributes (`.columns` for example) and methods (`.isna()` for example). We've been using those since always! "
   ]
  },
  {
   "cell_type": "markdown",
   "metadata": {
    "colab_type": "text",
    "id": "A5I8dflETYwu"
   },
   "source": [
    "If we wish, we could create our own class inheriting everything from a DataFrame class."
   ]
  },
  {
   "cell_type": "code",
   "execution_count": 79,
   "metadata": {
    "colab": {},
    "colab_type": "code",
    "id": "xZUmnuzzTYwv"
   },
   "outputs": [],
   "source": [
    "class myDataFrame(DataFrame):\n",
    "    def normalize_cols(self):\n",
    "        return [unidecode(re.sub('\\s+', '_', c).lower()) for c in self]"
   ]
  },
  {
   "cell_type": "markdown",
   "metadata": {
    "colab_type": "text",
    "id": "mPSyMDn4TYwy"
   },
   "source": [
    "Instead of just creating myDataFrame, put your function inside your new inherited class, that is, transform `normalize_cols` into a method of your own DataFrame.\n",
    "\n",
    "Remember you'll have to give self as the first argument of the `normalize_cols`. So you could replace everything you once called `dataframe` inside your `normalize_cols` by `self`. \n",
    "\n",
    "At the end, return the list of the correct names."
   ]
  },
  {
   "cell_type": "code",
   "execution_count": 0,
   "metadata": {
    "colab": {},
    "colab_type": "code",
    "id": "UD3uk6bkTYwz"
   },
   "outputs": [],
   "source": [
    "DataFrame"
   ]
  },
  {
   "cell_type": "markdown",
   "metadata": {
    "colab_type": "text",
    "id": "lCKiKMavTYw1"
   },
   "source": [
    "Test your results."
   ]
  },
  {
   "cell_type": "code",
   "execution_count": 80,
   "metadata": {
    "colab": {},
    "colab_type": "code",
    "id": "EaVQNJBbTYw2"
   },
   "outputs": [
    {
     "data": {
      "text/plain": [
       "['eaa_fcoffc_b',\n",
       " 'fd_fb_acdebo',\n",
       " 'acfbceaeebdb',\n",
       " 'dcebebdcbbae',\n",
       " 'bdecaeebob_b',\n",
       " 'ababbe_caaaf',\n",
       " 'fee_daccafca',\n",
       " 'bfacc_ce_ffa',\n",
       " 'ac_acddbb_f_',\n",
       " 'defcdbaaoeaa']"
      ]
     },
     "execution_count": 80,
     "metadata": {},
     "output_type": "execute_result"
    }
   ],
   "source": [
    "df = myDataFrame(create_weird_dataframe())\n",
    "df.normalize_cols()"
   ]
  },
  {
   "cell_type": "markdown",
   "metadata": {
    "colab_type": "text",
    "id": "I0IlScuLTYw5"
   },
   "source": [
    "## Understanding even more the `self` argument"
   ]
  },
  {
   "cell_type": "markdown",
   "metadata": {
    "colab_type": "text",
    "id": "UF5gjA1qTYw6"
   },
   "source": [
    "Instead of returning a list containing the correct columns, you should now assign the correct columns to the `self.columns` - this will effectively replace the values of your object by the correct columns.\n",
    "\n",
    "\n",
    "Now change your method to return the dataframe itself. That is, return the `self` argument this time and see the results! \n",
    "\n",
    "```python\n",
    "class myDataFrame(DataFrame):\n",
    "    def normalize_cos(self):\n",
    "        ...\n",
    "        return self\n",
    "```"
   ]
  },
  {
   "cell_type": "code",
   "execution_count": 83,
   "metadata": {
    "colab": {},
    "colab_type": "code",
    "id": "dTtylbdGTYw7"
   },
   "outputs": [
    {
     "data": {
      "text/html": [
       "<div>\n",
       "<style scoped>\n",
       "    .dataframe tbody tr th:only-of-type {\n",
       "        vertical-align: middle;\n",
       "    }\n",
       "\n",
       "    .dataframe tbody tr th {\n",
       "        vertical-align: top;\n",
       "    }\n",
       "\n",
       "    .dataframe thead th {\n",
       "        text-align: right;\n",
       "    }\n",
       "</style>\n",
       "<table border=\"1\" class=\"dataframe\">\n",
       "  <thead>\n",
       "    <tr style=\"text-align: right;\">\n",
       "      <th></th>\n",
       "      <th>afbabddcbabc</th>\n",
       "      <th>babacbbfbccb</th>\n",
       "      <th>dbaba_caaebc</th>\n",
       "      <th>aedcda_bdcae</th>\n",
       "      <th>abdaccecaceb</th>\n",
       "      <th>_cfedaeoafaa</th>\n",
       "      <th>obcfaeeocbaa</th>\n",
       "      <th>ca_aecfbeeba</th>\n",
       "      <th>cbbadbdcab_c</th>\n",
       "      <th>odcdfdecafcf</th>\n",
       "    </tr>\n",
       "  </thead>\n",
       "  <tbody>\n",
       "    <tr>\n",
       "      <th>0</th>\n",
       "      <td>0.225772</td>\n",
       "      <td>0.506090</td>\n",
       "      <td>0.249058</td>\n",
       "      <td>0.199224</td>\n",
       "      <td>0.992370</td>\n",
       "      <td>0.419846</td>\n",
       "      <td>0.198553</td>\n",
       "      <td>0.235468</td>\n",
       "      <td>0.249505</td>\n",
       "      <td>0.450447</td>\n",
       "    </tr>\n",
       "    <tr>\n",
       "      <th>1</th>\n",
       "      <td>0.573520</td>\n",
       "      <td>0.278817</td>\n",
       "      <td>0.946737</td>\n",
       "      <td>0.567367</td>\n",
       "      <td>0.490611</td>\n",
       "      <td>0.556199</td>\n",
       "      <td>0.740609</td>\n",
       "      <td>0.464186</td>\n",
       "      <td>0.833189</td>\n",
       "      <td>0.190084</td>\n",
       "    </tr>\n",
       "    <tr>\n",
       "      <th>2</th>\n",
       "      <td>0.868736</td>\n",
       "      <td>0.234395</td>\n",
       "      <td>0.820133</td>\n",
       "      <td>0.271795</td>\n",
       "      <td>0.804447</td>\n",
       "      <td>0.635150</td>\n",
       "      <td>0.923847</td>\n",
       "      <td>0.777745</td>\n",
       "      <td>0.283454</td>\n",
       "      <td>0.728025</td>\n",
       "    </tr>\n",
       "    <tr>\n",
       "      <th>3</th>\n",
       "      <td>0.813056</td>\n",
       "      <td>0.688589</td>\n",
       "      <td>0.701082</td>\n",
       "      <td>0.440307</td>\n",
       "      <td>0.048698</td>\n",
       "      <td>0.658282</td>\n",
       "      <td>0.339193</td>\n",
       "      <td>0.652222</td>\n",
       "      <td>0.911533</td>\n",
       "      <td>0.304602</td>\n",
       "    </tr>\n",
       "    <tr>\n",
       "      <th>4</th>\n",
       "      <td>0.213600</td>\n",
       "      <td>0.533775</td>\n",
       "      <td>0.619771</td>\n",
       "      <td>0.559560</td>\n",
       "      <td>0.800713</td>\n",
       "      <td>0.688204</td>\n",
       "      <td>0.636144</td>\n",
       "      <td>0.450704</td>\n",
       "      <td>0.692740</td>\n",
       "      <td>0.975656</td>\n",
       "    </tr>\n",
       "  </tbody>\n",
       "</table>\n",
       "</div>"
      ],
      "text/plain": [
       "   afbabddcbabc  babacbbfbccb  dbaba_caaebc  aedcda_bdcae  abdaccecaceb  \\\n",
       "0      0.225772      0.506090      0.249058      0.199224      0.992370   \n",
       "1      0.573520      0.278817      0.946737      0.567367      0.490611   \n",
       "2      0.868736      0.234395      0.820133      0.271795      0.804447   \n",
       "3      0.813056      0.688589      0.701082      0.440307      0.048698   \n",
       "4      0.213600      0.533775      0.619771      0.559560      0.800713   \n",
       "\n",
       "   _cfedaeoafaa  obcfaeeocbaa  ca_aecfbeeba  cbbadbdcab_c  odcdfdecafcf  \n",
       "0      0.419846      0.198553      0.235468      0.249505      0.450447  \n",
       "1      0.556199      0.740609      0.464186      0.833189      0.190084  \n",
       "2      0.635150      0.923847      0.777745      0.283454      0.728025  \n",
       "3      0.658282      0.339193      0.652222      0.911533      0.304602  \n",
       "4      0.688204      0.636144      0.450704      0.692740      0.975656  "
      ]
     },
     "execution_count": 83,
     "metadata": {},
     "output_type": "execute_result"
    }
   ],
   "source": [
    "class myDataFrame(DataFrame):\n",
    "    def normalize_cols(self):\n",
    "        self.columns = [unidecode(re.sub('\\s+', '_', c).lower()) for c in self]\n",
    "        return self\n",
    "    \n",
    "df = myDataFrame(create_weird_dataframe())\n",
    "df.normalize_cols()\n",
    "df.head()"
   ]
  },
  {
   "cell_type": "markdown",
   "metadata": {
    "colab_type": "text",
    "id": "bh1SJi3lTYxf"
   },
   "source": [
    "## Understanding the self argument"
   ]
  },
  {
   "cell_type": "markdown",
   "metadata": {
    "colab_type": "text",
    "id": "ZnGiF0QgTYxi"
   },
   "source": [
    "Now, below the `for loop` you've created, let's create the attributes of the `Car` class. Remember the attributes you wrote down earlier? Let's put them as arguments of the `__init__(self,)` function.\n",
    "\n",
    "Remember, the first argument of the `__init__(self,)` function should always be the `self` keyword. \n",
    "\n",
    "The `self` argument represents the object itself. That is a way for you to have access to the objects own attribute. \n"
   ]
  },
  {
   "cell_type": "markdown",
   "metadata": {
    "colab_type": "text",
    "id": "EuP7N9DzTYxj"
   },
   "source": [
    "### First, let's start creating one single attribute of this car."
   ]
  },
  {
   "cell_type": "markdown",
   "metadata": {
    "colab_type": "text",
    "id": "Szqw_HxlTYxk"
   },
   "source": [
    "Let's say you have chosen `name` as a car attribute (what? can't a car have a name?). \n",
    "\n",
    "If you want your class to receive a specific car name as an argument, you have to put this variable as the argument of the `__init__` function. So, to add `name`, the results of your special function definition would be:\n",
    "\n",
    "```python\n",
    "def __init__(self, name):\n",
    "    pass\n",
    "```\n",
    "\n",
    "Now, when you instantiate your Car class, the syntax would be similar to calling a function (which, by now, you should now that it is what you are effectively doing - you are calling the __init__ method), so what the syntax would be:\n",
    "\n",
    "*Hint: If you don't specify an argument, the python interpreter will complain that your class requires one argument (try that - if you don't try it now, it is not a problem, you'll try in future, even when you don't want to).*\n"
   ]
  },
  {
   "cell_type": "code",
   "execution_count": 0,
   "metadata": {
    "colab": {},
    "colab_type": "code",
    "id": "Uz0lt0tuTYxk"
   },
   "outputs": [],
   "source": [
    "# your code here"
   ]
  },
  {
   "cell_type": "markdown",
   "metadata": {
    "colab_type": "text",
    "id": "FLmjUel1TYxo"
   },
   "source": [
    "### Now let's store that new argument\n",
    "\n",
    "By now, you are only receiving the name of the car as an argument, but you are not doing anything specifically with that variable called `name`.\n",
    "\n",
    "Let's store that in the object. That's the first use of the `self` keyword.\n",
    "\n",
    "To store the variable in a way that the user can access via a `car.SOMETHING`, you have to specify that the object itself is receiving the attribute `name` (for example)\n",
    "\n",
    "Then, **create a variable called `name` that receives the argument `name`** (keep in mind that the name of the variable need not necessarily be the same, you could assing the argument `name` to an attribute called `chimpanze` for example).\n",
    "\n",
    "Also **create the other 5 attributes that you previously had in mind**\n"
   ]
  },
  {
   "cell_type": "code",
   "execution_count": 0,
   "metadata": {
    "colab": {},
    "colab_type": "code",
    "id": "7FzwacOwTYxq"
   },
   "outputs": [],
   "source": [
    "# your code here"
   ]
  },
  {
   "cell_type": "markdown",
   "metadata": {
    "colab_type": "text",
    "id": "3fS9sCKjTYxs"
   },
   "source": [
    "### Access the attribute\n",
    "\n",
    "You should now be able to access the object's attribute once you instantiate it as `my_car.name`\n",
    "\n",
    "You can try to write `my_car.<TAB>` to check what attributes or methods your object contains."
   ]
  },
  {
   "cell_type": "code",
   "execution_count": 0,
   "metadata": {
    "colab": {},
    "colab_type": "code",
    "id": "if18GWwtTYxt"
   },
   "outputs": [],
   "source": []
  },
  {
   "cell_type": "markdown",
   "metadata": {
    "colab_type": "text",
    "id": "uu5Ma2rvTYxu"
   },
   "source": [
    "## Understanding special methods"
   ]
  },
  {
   "cell_type": "markdown",
   "metadata": {
    "colab_type": "text",
    "id": "ltpSwuvTTYxv"
   },
   "source": [
    "Special methods are the ones that start with double underlines (usually called `dunder`), for example the `__init__` method, the `__doc__` method or `__repr__` method (called as `dunder init`, `dunder doc`, `dunder repr`)."
   ]
  },
  {
   "cell_type": "markdown",
   "metadata": {
    "colab_type": "text",
    "id": "dyytOn27TYxw"
   },
   "source": [
    "The `__repr__` method is responsible to show how your class will be displayed on screen when you display it.\n",
    "Let's create a `__repr__(self)` function on our `Car` class that returns the following string below (copy the string below):\n",
    "\n",
    "```python\n",
    "    car = f'''\n",
    "                  ______--------___\n",
    "                 /|             / |\n",
    "      o___________|_\\__________/__|\n",
    "     ]|___     |  |=   ||  =|___  |\"\n",
    "     //   \\\\    |  |____||_///   \\\\|\"\n",
    "    |  X  |\\--------------/|  X  |\\\"\n",
    "     \\___/                  \\___/\n",
    "    '''\n",
    "```\n",
    "\n",
    "Your class should now have two special methods, `__init__` and `__repr__`"
   ]
  },
  {
   "cell_type": "code",
   "execution_count": 0,
   "metadata": {
    "colab": {},
    "colab_type": "code",
    "id": "y4JUYVALTYxw"
   },
   "outputs": [],
   "source": [
    "class Car:\n",
    "    \n",
    "    def __init__(self, car_name):\n",
    "        self.car_name = car_name\n",
    "    \n",
    "    def __repr__(self):\n",
    "        \n",
    "        car = f'''\n",
    "                      ______--------___\n",
    "                     /|             / |\n",
    "          o___________|_\\__________/__|\n",
    "         ]|___     |  |=   ||  =|___  |\"\n",
    "         //   \\\\    |  |____||_///   \\\\|\"\n",
    "        |  X  |\\--------------/|  X  |\\\"\n",
    "         \\___/                  \\___/\n",
    "        '''\n",
    "        \n",
    "        return car"
   ]
  },
  {
   "cell_type": "markdown",
   "metadata": {
    "colab_type": "text",
    "id": "cZV4Qq62TYx4"
   },
   "source": [
    "### Now instantiate your Car class again"
   ]
  },
  {
   "cell_type": "code",
   "execution_count": 0,
   "metadata": {
    "colab": {},
    "colab_type": "code",
    "id": "K51Kjik8TYx4"
   },
   "outputs": [],
   "source": [
    "my_car = Car('Jeguinho')"
   ]
  },
  {
   "cell_type": "markdown",
   "metadata": {
    "colab_type": "text",
    "id": "ZoFEGcT1TYx8"
   },
   "source": [
    "### And check what happens when you print your object on screen"
   ]
  },
  {
   "cell_type": "code",
   "execution_count": 0,
   "metadata": {
    "colab": {},
    "colab_type": "code",
    "id": "v3JCceBBTYx9"
   },
   "outputs": [],
   "source": [
    "print(my_car)"
   ]
  },
  {
   "cell_type": "markdown",
   "metadata": {
    "colab_type": "text",
    "id": "tfhgwGFDTYyA"
   },
   "source": [
    "### Now create a simple method to receive and return the `self` variable\n",
    "\n",
    "Create a simple method inside your `class Car` and return `self` the self argument. Name this method `get_itself`."
   ]
  },
  {
   "cell_type": "code",
   "execution_count": 0,
   "metadata": {
    "colab": {},
    "colab_type": "code",
    "id": "jEQNj8r4TYyB"
   },
   "outputs": [],
   "source": [
    "class Car:\n",
    "    \n",
    "    def __init__(self, car_name):\n",
    "        self.car_name = car_name\n",
    "    \n",
    "    def __repr__(self):\n",
    "        \n",
    "        car = f'''\n",
    "                      ______--------___\n",
    "                     /|             / |\n",
    "          o___________|_\\__________/__|\n",
    "         ]|___     |  |=   ||  =|___  |\"\n",
    "         //   \\\\    |  |____||_///   \\\\|\"\n",
    "        |  X  |\\--------------/|  X  |\\\"\n",
    "         \\___/                  \\___/\n",
    "        '''\n",
    "        \n",
    "        return car\n",
    "    \n",
    "    def get_itself(self):\n",
    "        return self"
   ]
  },
  {
   "cell_type": "markdown",
   "metadata": {
    "colab_type": "text",
    "id": "Zd2avbOGTYyE"
   },
   "source": [
    "#### Now instantiate the Car class and call `get_itself()`"
   ]
  },
  {
   "cell_type": "code",
   "execution_count": 0,
   "metadata": {
    "colab": {},
    "colab_type": "code",
    "id": "pUl9ZI8YTYyF"
   },
   "outputs": [],
   "source": [
    "my_car = Car('andre')"
   ]
  },
  {
   "cell_type": "code",
   "execution_count": 0,
   "metadata": {
    "colab": {},
    "colab_type": "code",
    "id": "AZ3o-NCkTYyK"
   },
   "outputs": [],
   "source": [
    "my_car.get_itself()"
   ]
  },
  {
   "cell_type": "markdown",
   "metadata": {
    "colab_type": "text",
    "id": "QZ25I6chTYyL"
   },
   "source": [
    "This happens because you are print this specific object. "
   ]
  }
 ],
 "metadata": {
  "colab": {
   "collapsed_sections": [
    "YMpWYJFwTYvz",
    "LWMc9bikTYv4",
    "ikvacQQ3TYv7",
    "MXm2-PEbTYwA",
    "zNR5w4cWTYwE",
    "iqffTpd3TYwU",
    "mn0UwlZATYwX",
    "tCoX4ZYLTYwj",
    "MTgNfgeYTYwm",
    "VQ9C0CjkTYwq",
    "I0IlScuLTYw5",
    "bh1SJi3lTYxf",
    "EuP7N9DzTYxj",
    "FLmjUel1TYxo",
    "3fS9sCKjTYxs",
    "uu5Ma2rvTYxu",
    "cZV4Qq62TYx4",
    "ZoFEGcT1TYx8",
    "tfhgwGFDTYyA",
    "Zd2avbOGTYyE"
   ],
   "name": "[BONUS] challenge-02.ipynb",
   "provenance": []
  },
  "kernelspec": {
   "display_name": "Python 3",
   "language": "python",
   "name": "python3"
  },
  "language_info": {
   "codemirror_mode": {
    "name": "ipython",
    "version": 3
   },
   "file_extension": ".py",
   "mimetype": "text/x-python",
   "name": "python",
   "nbconvert_exporter": "python",
   "pygments_lexer": "ipython3",
   "version": "3.7.6"
  },
  "toc": {
   "base_numbering": 1,
   "nav_menu": {},
   "number_sections": true,
   "sideBar": true,
   "skip_h1_title": false,
   "title_cell": "Table of Contents",
   "title_sidebar": "Contents",
   "toc_cell": false,
   "toc_position": {},
   "toc_section_display": true,
   "toc_window_display": false
  }
 },
 "nbformat": 4,
 "nbformat_minor": 1
}
